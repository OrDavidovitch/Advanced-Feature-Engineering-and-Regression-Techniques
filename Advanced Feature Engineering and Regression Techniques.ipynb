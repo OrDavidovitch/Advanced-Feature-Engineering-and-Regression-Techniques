{
 "cells": [
  {
   "cell_type": "markdown",
   "id": "fcdf1eba",
   "metadata": {},
   "source": [
    "First, we import the relevant libraries for the preprocessing section."
   ]
  },
  {
   "cell_type": "code",
   "execution_count": 112,
   "id": "bd675e5b",
   "metadata": {},
   "outputs": [],
   "source": [
    "import os \n",
    "import pandas as pd\n",
    "import numpy as np\n",
    "import scipy.stats as scps\n",
    "import seaborn as sns\n",
    "import matplotlib.pyplot as plt\n",
    "%matplotlib inline"
   ]
  },
  {
   "cell_type": "markdown",
   "id": "fa64d22a",
   "metadata": {},
   "source": [
    "Reading in the data."
   ]
  },
  {
   "cell_type": "code",
   "execution_count": 113,
   "id": "b1134049",
   "metadata": {},
   "outputs": [],
   "source": [
    "os.chdir('C:\\\\Users\\ordav\\Desktop\\ML_Projects\\HousePrices')\n",
    "train = pd.read_csv('train.csv')\n",
    "test = pd.read_csv('test.csv')"
   ]
  },
  {
   "cell_type": "markdown",
   "id": "f92a8f72",
   "metadata": {},
   "source": [
    "Getting some first impressions on the data"
   ]
  },
  {
   "cell_type": "code",
   "execution_count": 114,
   "id": "25041fbd",
   "metadata": {},
   "outputs": [
    {
     "data": {
      "text/html": [
       "<div>\n",
       "<style scoped>\n",
       "    .dataframe tbody tr th:only-of-type {\n",
       "        vertical-align: middle;\n",
       "    }\n",
       "\n",
       "    .dataframe tbody tr th {\n",
       "        vertical-align: top;\n",
       "    }\n",
       "\n",
       "    .dataframe thead th {\n",
       "        text-align: right;\n",
       "    }\n",
       "</style>\n",
       "<table border=\"1\" class=\"dataframe\">\n",
       "  <thead>\n",
       "    <tr style=\"text-align: right;\">\n",
       "      <th></th>\n",
       "      <th>Id</th>\n",
       "      <th>MSSubClass</th>\n",
       "      <th>MSZoning</th>\n",
       "      <th>LotFrontage</th>\n",
       "      <th>LotArea</th>\n",
       "      <th>Street</th>\n",
       "      <th>Alley</th>\n",
       "      <th>LotShape</th>\n",
       "      <th>LandContour</th>\n",
       "      <th>Utilities</th>\n",
       "      <th>...</th>\n",
       "      <th>PoolArea</th>\n",
       "      <th>PoolQC</th>\n",
       "      <th>Fence</th>\n",
       "      <th>MiscFeature</th>\n",
       "      <th>MiscVal</th>\n",
       "      <th>MoSold</th>\n",
       "      <th>YrSold</th>\n",
       "      <th>SaleType</th>\n",
       "      <th>SaleCondition</th>\n",
       "      <th>SalePrice</th>\n",
       "    </tr>\n",
       "  </thead>\n",
       "  <tbody>\n",
       "    <tr>\n",
       "      <th>0</th>\n",
       "      <td>1</td>\n",
       "      <td>60</td>\n",
       "      <td>RL</td>\n",
       "      <td>65.0</td>\n",
       "      <td>8450</td>\n",
       "      <td>Pave</td>\n",
       "      <td>NaN</td>\n",
       "      <td>Reg</td>\n",
       "      <td>Lvl</td>\n",
       "      <td>AllPub</td>\n",
       "      <td>...</td>\n",
       "      <td>0</td>\n",
       "      <td>NaN</td>\n",
       "      <td>NaN</td>\n",
       "      <td>NaN</td>\n",
       "      <td>0</td>\n",
       "      <td>2</td>\n",
       "      <td>2008</td>\n",
       "      <td>WD</td>\n",
       "      <td>Normal</td>\n",
       "      <td>208500</td>\n",
       "    </tr>\n",
       "    <tr>\n",
       "      <th>1</th>\n",
       "      <td>2</td>\n",
       "      <td>20</td>\n",
       "      <td>RL</td>\n",
       "      <td>80.0</td>\n",
       "      <td>9600</td>\n",
       "      <td>Pave</td>\n",
       "      <td>NaN</td>\n",
       "      <td>Reg</td>\n",
       "      <td>Lvl</td>\n",
       "      <td>AllPub</td>\n",
       "      <td>...</td>\n",
       "      <td>0</td>\n",
       "      <td>NaN</td>\n",
       "      <td>NaN</td>\n",
       "      <td>NaN</td>\n",
       "      <td>0</td>\n",
       "      <td>5</td>\n",
       "      <td>2007</td>\n",
       "      <td>WD</td>\n",
       "      <td>Normal</td>\n",
       "      <td>181500</td>\n",
       "    </tr>\n",
       "    <tr>\n",
       "      <th>2</th>\n",
       "      <td>3</td>\n",
       "      <td>60</td>\n",
       "      <td>RL</td>\n",
       "      <td>68.0</td>\n",
       "      <td>11250</td>\n",
       "      <td>Pave</td>\n",
       "      <td>NaN</td>\n",
       "      <td>IR1</td>\n",
       "      <td>Lvl</td>\n",
       "      <td>AllPub</td>\n",
       "      <td>...</td>\n",
       "      <td>0</td>\n",
       "      <td>NaN</td>\n",
       "      <td>NaN</td>\n",
       "      <td>NaN</td>\n",
       "      <td>0</td>\n",
       "      <td>9</td>\n",
       "      <td>2008</td>\n",
       "      <td>WD</td>\n",
       "      <td>Normal</td>\n",
       "      <td>223500</td>\n",
       "    </tr>\n",
       "    <tr>\n",
       "      <th>3</th>\n",
       "      <td>4</td>\n",
       "      <td>70</td>\n",
       "      <td>RL</td>\n",
       "      <td>60.0</td>\n",
       "      <td>9550</td>\n",
       "      <td>Pave</td>\n",
       "      <td>NaN</td>\n",
       "      <td>IR1</td>\n",
       "      <td>Lvl</td>\n",
       "      <td>AllPub</td>\n",
       "      <td>...</td>\n",
       "      <td>0</td>\n",
       "      <td>NaN</td>\n",
       "      <td>NaN</td>\n",
       "      <td>NaN</td>\n",
       "      <td>0</td>\n",
       "      <td>2</td>\n",
       "      <td>2006</td>\n",
       "      <td>WD</td>\n",
       "      <td>Abnorml</td>\n",
       "      <td>140000</td>\n",
       "    </tr>\n",
       "    <tr>\n",
       "      <th>4</th>\n",
       "      <td>5</td>\n",
       "      <td>60</td>\n",
       "      <td>RL</td>\n",
       "      <td>84.0</td>\n",
       "      <td>14260</td>\n",
       "      <td>Pave</td>\n",
       "      <td>NaN</td>\n",
       "      <td>IR1</td>\n",
       "      <td>Lvl</td>\n",
       "      <td>AllPub</td>\n",
       "      <td>...</td>\n",
       "      <td>0</td>\n",
       "      <td>NaN</td>\n",
       "      <td>NaN</td>\n",
       "      <td>NaN</td>\n",
       "      <td>0</td>\n",
       "      <td>12</td>\n",
       "      <td>2008</td>\n",
       "      <td>WD</td>\n",
       "      <td>Normal</td>\n",
       "      <td>250000</td>\n",
       "    </tr>\n",
       "  </tbody>\n",
       "</table>\n",
       "<p>5 rows × 81 columns</p>\n",
       "</div>"
      ],
      "text/plain": [
       "   Id  MSSubClass MSZoning  LotFrontage  LotArea Street Alley LotShape  \\\n",
       "0   1          60       RL         65.0     8450   Pave   NaN      Reg   \n",
       "1   2          20       RL         80.0     9600   Pave   NaN      Reg   \n",
       "2   3          60       RL         68.0    11250   Pave   NaN      IR1   \n",
       "3   4          70       RL         60.0     9550   Pave   NaN      IR1   \n",
       "4   5          60       RL         84.0    14260   Pave   NaN      IR1   \n",
       "\n",
       "  LandContour Utilities  ... PoolArea PoolQC Fence MiscFeature MiscVal MoSold  \\\n",
       "0         Lvl    AllPub  ...        0    NaN   NaN         NaN       0      2   \n",
       "1         Lvl    AllPub  ...        0    NaN   NaN         NaN       0      5   \n",
       "2         Lvl    AllPub  ...        0    NaN   NaN         NaN       0      9   \n",
       "3         Lvl    AllPub  ...        0    NaN   NaN         NaN       0      2   \n",
       "4         Lvl    AllPub  ...        0    NaN   NaN         NaN       0     12   \n",
       "\n",
       "  YrSold  SaleType  SaleCondition  SalePrice  \n",
       "0   2008        WD         Normal     208500  \n",
       "1   2007        WD         Normal     181500  \n",
       "2   2008        WD         Normal     223500  \n",
       "3   2006        WD        Abnorml     140000  \n",
       "4   2008        WD         Normal     250000  \n",
       "\n",
       "[5 rows x 81 columns]"
      ]
     },
     "execution_count": 114,
     "metadata": {},
     "output_type": "execute_result"
    }
   ],
   "source": [
    "train.head()"
   ]
  },
  {
   "cell_type": "markdown",
   "id": "18e32363",
   "metadata": {},
   "source": [
    "Our target variable is 'SalePrice'. We will seperate it from the explenatory variables.\n",
    "The Id is irrelevant as a feature, but we will need the test points' id's for the submissions."
   ]
  },
  {
   "cell_type": "code",
   "execution_count": 115,
   "id": "4499ed69",
   "metadata": {},
   "outputs": [],
   "source": [
    "train['SalePrice'] = np.log(1+train['SalePrice'])\n",
    "y_train = train['SalePrice']\n",
    "testId = test.Id\n",
    "train.drop('Id', axis = 1, inplace=True)\n",
    "test.drop('Id', axis = 1, inplace=True)"
   ]
  },
  {
   "cell_type": "markdown",
   "id": "9f48fb7d",
   "metadata": {},
   "source": [
    "\n",
    "Looking at how nuch missing data we have. We will drop features with more than 20% missing entries."
   ]
  },
  {
   "cell_type": "code",
   "execution_count": 116,
   "id": "e93758ea",
   "metadata": {},
   "outputs": [
    {
     "data": {
      "text/plain": [
       "1460"
      ]
     },
     "execution_count": 116,
     "metadata": {},
     "output_type": "execute_result"
    }
   ],
   "source": [
    "n = len(train.index)\n",
    "n"
   ]
  },
  {
   "cell_type": "code",
   "execution_count": 117,
   "id": "f743e591",
   "metadata": {},
   "outputs": [
    {
     "data": {
      "text/plain": [
       "1459"
      ]
     },
     "execution_count": 117,
     "metadata": {},
     "output_type": "execute_result"
    }
   ],
   "source": [
    "m = len(test.index)\n",
    "m"
   ]
  },
  {
   "cell_type": "code",
   "execution_count": 118,
   "id": "b16d9c42-5aee-4f5e-9002-952d27b17da1",
   "metadata": {},
   "outputs": [
    {
     "data": {
      "image/png": "[encoded data removed]",
      "text/plain": [
       "<Figure size 1000x400 with 1 Axes>"
      ]
     },
     "metadata": {},
     "output_type": "display_data"
    }
   ],
   "source": [
    "sns.set(rc={'figure.figsize':(10, 4)}) \n",
    "NAsHeatmap = sns.heatmap(train.iloc[:, :30].isnull(), cmap = 'viridis', cbar=False)\n",
    "plt.xticks(rotation=90, fontsize=8)\n",
    "NAsHeatmap.set(yticklabels = [])\n",
    "NAsHeatmap.tick_params(left=False)"
   ]
  },
  {
   "cell_type": "code",
   "execution_count": 119,
   "id": "753d1ea5",
   "metadata": {},
   "outputs": [
    {
     "data": {
      "text/plain": [
       "['FireplaceQu', 'MasVnrType', 'Fence', 'Alley', 'MiscFeature', 'PoolQC']"
      ]
     },
     "execution_count": 119,
     "metadata": {},
     "output_type": "execute_result"
    }
   ],
   "source": [
    "list(train.isna().sum()[train.isna().sum() > n * 0.2].sort_values().index)"
   ]
  },
  {
   "cell_type": "code",
   "execution_count": 120,
   "id": "a91fd447",
   "metadata": {},
   "outputs": [
    {
     "data": {
      "text/plain": [
       "['FireplaceQu', 'MasVnrType', 'Fence', 'Alley', 'MiscFeature', 'PoolQC']"
      ]
     },
     "execution_count": 120,
     "metadata": {},
     "output_type": "execute_result"
    }
   ],
   "source": [
    "list(test.isna().sum()[test.isna().sum() > m * 0.2].sort_values().index)"
   ]
  },
  {
   "cell_type": "code",
   "execution_count": 121,
   "id": "64a8b395",
   "metadata": {},
   "outputs": [],
   "source": [
    "colsToDrop = list(train.isna().sum()[train.isna().sum() > n * 0.2].sort_values().index)\n",
    "train.drop(colsToDrop, axis = 1, inplace=True)\n",
    "test.drop(colsToDrop, axis = 1, inplace=True)"
   ]
  },
  {
   "cell_type": "code",
   "execution_count": 122,
   "id": "a637dbf2",
   "metadata": {},
   "outputs": [],
   "source": [
    "colsToDrop = ['TotalBsmtSF', 'TotRmsAbvGrd', 'GarageYrBlt', 'GarageCars']\n",
    "train.drop(colsToDrop, axis = 1, inplace=True)\n",
    "test.drop(colsToDrop, axis = 1, inplace=True)"
   ]
  },
  {
   "cell_type": "code",
   "execution_count": 123,
   "id": "e28c6e47-9daa-496c-9e36-8e2a369bf900",
   "metadata": {},
   "outputs": [
    {
     "data": {
      "text/plain": [
       "['LotFrontage',\n",
       " 'MasVnrArea',\n",
       " 'BsmtQual',\n",
       " 'BsmtCond',\n",
       " 'BsmtExposure',\n",
       " 'BsmtFinType1',\n",
       " 'BsmtFinType2',\n",
       " 'Electrical',\n",
       " 'GarageType',\n",
       " 'GarageFinish',\n",
       " 'GarageQual',\n",
       " 'GarageCond']"
      ]
     },
     "execution_count": 123,
     "metadata": {},
     "output_type": "execute_result"
    }
   ],
   "source": [
    "list(train.isna().sum()[train.isna().sum() > 0].index)"
   ]
  },
  {
   "cell_type": "code",
   "execution_count": 124,
   "id": "e93d1f94-0be5-4d81-a5c3-54f3d43ccead",
   "metadata": {},
   "outputs": [
    {
     "data": {
      "text/plain": [
       "['MSZoning',\n",
       " 'LotFrontage',\n",
       " 'Utilities',\n",
       " 'Exterior1st',\n",
       " 'Exterior2nd',\n",
       " 'MasVnrArea',\n",
       " 'BsmtQual',\n",
       " 'BsmtCond',\n",
       " 'BsmtExposure',\n",
       " 'BsmtFinType1',\n",
       " 'BsmtFinSF1',\n",
       " 'BsmtFinType2',\n",
       " 'BsmtFinSF2',\n",
       " 'BsmtUnfSF',\n",
       " 'BsmtFullBath',\n",
       " 'BsmtHalfBath',\n",
       " 'KitchenQual',\n",
       " 'Functional',\n",
       " 'GarageType',\n",
       " 'GarageFinish',\n",
       " 'GarageArea',\n",
       " 'GarageQual',\n",
       " 'GarageCond',\n",
       " 'SaleType']"
      ]
     },
     "execution_count": 124,
     "metadata": {},
     "output_type": "execute_result"
    }
   ],
   "source": [
    "list(test.isna().sum()[test.isna().sum() > 0].index)"
   ]
  },
  {
   "cell_type": "markdown",
   "id": "373d8f58",
   "metadata": {},
   "source": [
    "We have a large amount of categorical variables, and a lot of them has a high number of categories. We want to create a function that will transform them to ordinal variables. \n",
    "Lets describe the algorithm:\n",
    "\n",
    "1. Look at a categorical feature x.\n",
    "2. Look at each category in it {z1, z2, ... , zk}\n",
    "3. Seperate the 'SalePrice' by the category the observation belongs to. We have k numerical vectors.\n",
    "4. We compare each 2 vectors using Wilcoxon's rank sum test, to check for a significant difference. Since we have  up to (k Choose 2) seperate null hypothesis, we need to make a Bonfferoni correction to our significance level to keep our FWER as 0.05. We do not want to be too conservative, so we will look at it like making k tests.\n",
    "5. We now have s batches of categories. We consider each batch as equivalent (with respect to its effect on the target variable).\n",
    "6. We choose a representative category from each batch and compute the mean of 'SalePrice' in the category.\n",
    "7. We rank the batches by the mean we computed.\n",
    "8. An observation's new ordinal feature is the rank of the batch where its category is located."
   ]
  },
  {
   "cell_type": "code",
   "execution_count": 125,
   "id": "53cee393-3c36-4a62-96bc-40957c8dd725",
   "metadata": {},
   "outputs": [
    {
     "name": "stderr",
     "output_type": "stream",
     "text": [
      "C:\\Users\\ordav\\AppData\\Local\\Temp\\ipykernel_1600\\4052679108.py:9: FutureWarning: \n",
      "\n",
      "Passing `palette` without assigning `hue` is deprecated and will be removed in v0.14.0. Assign the `y` variable to `hue` and set `legend=False` for the same effect.\n",
      "\n",
      "  sns.boxplot(\n"
     ]
    },
    {
     "data": {
      "image/png": "[encoded data removed]",
      "text/plain": [
       "<Figure size 700x400 with 1 Axes>"
      ]
     },
     "metadata": {},
     "output_type": "display_data"
    }
   ],
   "source": [
    "my_y = 'HouseStyle'\n",
    "\n",
    "sns.set_theme(style=\"ticks\")\n",
    "\n",
    "# Initialize the figure with a logarithmic x axis\n",
    "f, ax = plt.subplots(figsize=(7, 4))\n",
    "\n",
    "# Plot the orbital period with horizontal boxes\n",
    "sns.boxplot(\n",
    "    train, y=my_y, x=\"SalePrice\",\n",
    "    whis=[0, 100], width=.6, palette=\"vlag\"\n",
    ")\n",
    "\n",
    "# Add in points to show each observation\n",
    "sns.stripplot(train, y=my_y, x=\"SalePrice\", size=4, color=\".3\")\n",
    "\n",
    "# Tweak the visual presentation\n",
    "ax.xaxis.grid(True)\n",
    "ax.set(ylabel=\"\")\n",
    "sns.despine(trim=True, left=True)"
   ]
  },
  {
   "cell_type": "code",
   "execution_count": 71,
   "id": "58284b53",
   "metadata": {},
   "outputs": [],
   "source": [
    "from operator import itemgetter\n",
    "\n",
    "def batches(x, alpha):\n",
    "    vals = train[x].dropna().unique()\n",
    "    nUnique = len(vals)\n",
    "    to_compare = {}\n",
    "    for i in range(nUnique):\n",
    "        to_compare[vals[i]] = train.loc[train[x] == vals[i], 'SalePrice']\n",
    "    means_to_compare = {}\n",
    "    for i in range(nUnique):\n",
    "        means_to_compare[vals[i]] = np.mean(train.loc[train[x] == vals[i], 'SalePrice'])\n",
    "    sorted_keys = sorted(means_to_compare, key=means_to_compare.get)\n",
    "    batches = {1:[sorted_keys[0]]}\n",
    "    curr_batch = 1\n",
    "    appended = []\n",
    "    for j in range(1, nUnique):\n",
    "        prev = batches[curr_batch][0]\n",
    "        new = sorted_keys[j]\n",
    "        t = scps.ranksums(x = to_compare[prev], y = to_compare[new])\n",
    "        p = t[1]\n",
    "        if p >= alpha:\n",
    "            batches[curr_batch].append(new)\n",
    "        else:\n",
    "            curr_batch = curr_batch + 1\n",
    "            batches[curr_batch] = [new]\n",
    "    #for j in to_compare.keys():\n",
    "    #    if j not in appended:\n",
    "    #        batches[j] = [j]\n",
    "    #        appended.append(j)\n",
    "    #        for k in to_compare.keys():\n",
    "    #            if (k not in appended):\n",
    "    #                t = scps.ranksums(x = to_compare[j], y = to_compare[k])\n",
    "    #                p = t[1]\n",
    "    #                if p >= (alpha / nUnique):\n",
    "    #                    batches[j].append(k)\n",
    "    #                    appended.append(k)\n",
    "    return batches\n",
    "\n",
    "def catToOrd(x, alpha):\n",
    "    d = batches(x, alpha)\n",
    "    train_new = pd.Series(0, index=np.arange(len(train.index)))\n",
    "    test_new = pd.Series(0, index=np.arange(len(test.index)))\n",
    "    for i in range(len(train.index)):\n",
    "        if pd.isna(train[x][i]):\n",
    "            train_new[i] = np.nan\n",
    "        else:\n",
    "            for j in d.keys():\n",
    "                if train[x][i] in d[j]:\n",
    "                    train_new[i] = j\n",
    "    for i in range(len(test.index)):\n",
    "        if pd.isna(test[x][i]):\n",
    "            test_new[i] = np.nan\n",
    "        else:\n",
    "            for j in d.keys():\n",
    "                if test[x][i] in d[j]:\n",
    "                    test_new[i] = j\n",
    "            \n",
    "    return [train_new, test_new]\n",
    "\n",
    "def catToOrdDF(alpha):\n",
    "    colsToDrop = []\n",
    "    types = train.dtypes\n",
    "    for j in range(len(types)):\n",
    "        if types.iloc[j] == object:\n",
    "            x = train.columns[j]\n",
    "            ordx = catToOrd(x, alpha)\n",
    "            train['New'+x] = ordx[0]\n",
    "            test['New'+x] = ordx[1]\n",
    "            colsToDrop.append(x)\n",
    "    train.drop(colsToDrop, axis = 1, inplace = True)\n",
    "    test.drop(colsToDrop, axis = 1, inplace = True)"
   ]
  },
  {
   "cell_type": "code",
   "execution_count": 72,
   "id": "3dbbc524",
   "metadata": {},
   "outputs": [],
   "source": [
    "catToOrdDF(0.05)"
   ]
  },
  {
   "cell_type": "markdown",
   "id": "fbfcc219",
   "metadata": {},
   "source": [
    "We notice that the 'MSSubClass' feature is also categorical, although it encoded with numerical values."
   ]
  },
  {
   "cell_type": "code",
   "execution_count": 73,
   "id": "8ff45466",
   "metadata": {},
   "outputs": [],
   "source": [
    "newCols = catToOrd('MSSubClass', 0.05)"
   ]
  },
  {
   "cell_type": "code",
   "execution_count": 74,
   "id": "c07d74d6",
   "metadata": {},
   "outputs": [],
   "source": [
    "train.MSSubClass = newCols[0]\n",
    "test.MSSubClass = newCols[1]"
   ]
  },
  {
   "cell_type": "code",
   "execution_count": 75,
   "id": "b4fe7325-8064-41b5-a213-01d620f6d797",
   "metadata": {},
   "outputs": [],
   "source": [
    "train['NewHouseStyle'] = train['NewHouseStyle'].astype(\"category\")"
   ]
  },
  {
   "cell_type": "code",
   "execution_count": 76,
   "id": "378a278d-613c-4d76-afab-bc45339107d6",
   "metadata": {},
   "outputs": [
    {
     "data": {
      "image/png": "[encoded data removed]",
      "text/plain": [
       "<Figure size 700x400 with 1 Axes>"
      ]
     },
     "metadata": {},
     "output_type": "display_data"
    }
   ],
   "source": [
    "my_y = 'NewHouseStyle'\n",
    "\n",
    "sns.set_theme(style=\"ticks\")\n",
    "\n",
    "# Initialize the figure with a logarithmic x axis\n",
    "f, ax = plt.subplots(figsize=(7, 4))\n",
    "\n",
    "# Plot the orbital period with horizontal boxes\n",
    "sns.boxplot(\n",
    "    train, hue=my_y, x=\"SalePrice\",\n",
    "    whis=[0, 100], width=.6, palette=\"vlag\"\n",
    ")\n",
    "\n",
    "# Add in points to show each observation\n",
    "#sns.stripplot(train, y=my_y, x=\"SalePrice\", size=4, color=\".3\")\n",
    "\n",
    "# Tweak the visual presentation\n",
    "ax.xaxis.grid(True)\n",
    "ax.set(ylabel=\"\")\n",
    "sns.despine(trim=True, left=True)"
   ]
  },
  {
   "cell_type": "code",
   "execution_count": 77,
   "id": "178a0a46-5ef5-437d-9f41-1ed44b7ade31",
   "metadata": {},
   "outputs": [],
   "source": [
    "train['NewLotShape'] = train['NewLotShape'].astype(\"category\")"
   ]
  },
  {
   "cell_type": "code",
   "execution_count": 78,
   "id": "5b79a4ef-17ba-4e67-9a00-78271b54ed42",
   "metadata": {},
   "outputs": [
    {
     "data": {
      "image/png": "[encoded data removed]",
      "text/plain": [
       "<Figure size 700x400 with 1 Axes>"
      ]
     },
     "metadata": {},
     "output_type": "display_data"
    }
   ],
   "source": [
    "my_y = 'NewHouseStyle'\n",
    "\n",
    "sns.set_theme(style=\"ticks\")\n",
    "\n",
    "# Initialize the figure with a logarithmic x axis\n",
    "f, ax = plt.subplots(figsize=(7, 4))\n",
    "\n",
    "# Plot the orbital period with horizontal boxes\n",
    "sns.boxplot(\n",
    "    train, y=my_y, x=\"SalePrice\", hue = \"NewLotShape\",\n",
    "    whis=[0, 100], width=.6, palette=\"vlag\"\n",
    ")\n",
    "\n",
    "# Add in points to show each observation\n",
    "#sns.stripplot(train, y=my_y, x=\"SalePrice\", size=4, color=\".3\")\n",
    "\n",
    "# Tweak the visual presentation\n",
    "ax.xaxis.grid(True)\n",
    "ax.set(ylabel=\"\")\n",
    "sns.despine(trim=True, left=True)"
   ]
  },
  {
   "cell_type": "code",
   "execution_count": 79,
   "id": "1c2385e7-98f1-49fe-b57f-8dbe6b8e99d7",
   "metadata": {},
   "outputs": [],
   "source": [
    "train['NewLotShape'] = train['NewLotShape'].astype(int)\n",
    "train['NewHouseStyle'] = train['NewHouseStyle'].astype(int)"
   ]
  },
  {
   "cell_type": "markdown",
   "id": "487466e4",
   "metadata": {},
   "source": [
    "We can now drop the 'SalePrice' column from the training set."
   ]
  },
  {
   "cell_type": "code",
   "execution_count": 80,
   "id": "fab9876c",
   "metadata": {},
   "outputs": [],
   "source": [
    "train.drop('SalePrice', axis = 1, inplace = True)"
   ]
  },
  {
   "cell_type": "markdown",
   "id": "ac70add7",
   "metadata": {},
   "source": [
    "We need to remember that our process might produce features that are constant .We check for features like that. "
   ]
  },
  {
   "cell_type": "code",
   "execution_count": 81,
   "id": "908644d9",
   "metadata": {},
   "outputs": [
    {
     "data": {
      "text/plain": [
       "9"
      ]
     },
     "execution_count": 81,
     "metadata": {},
     "output_type": "execute_result"
    }
   ],
   "source": [
    "sum(train.std() == 0)"
   ]
  },
  {
   "cell_type": "markdown",
   "id": "e663a5da",
   "metadata": {},
   "source": [
    "We drop these columns."
   ]
  },
  {
   "cell_type": "code",
   "execution_count": 82,
   "id": "c9c2bd34",
   "metadata": {},
   "outputs": [],
   "source": [
    "boolConst = (train.std() == 0)\n",
    "colsToDrop = boolConst.index[boolConst]\n",
    "train.drop(colsToDrop, axis = 1, inplace=True)\n",
    "test.drop(colsToDrop, axis = 1, inplace=True)"
   ]
  },
  {
   "cell_type": "markdown",
   "id": "4183c34f",
   "metadata": {},
   "source": [
    "We want to avoid high correlation between features. We check which of them has a high linear correlation using Pearson's Correlation Coefficient, and drop ones who are closely realated to others. We drop the ones with a smaller Pearson's Correlation Coefficient to the target variable."
   ]
  },
  {
   "cell_type": "code",
   "execution_count": 83,
   "id": "028d0b28",
   "metadata": {},
   "outputs": [],
   "source": [
    "def dropCorrs(alpha):\n",
    "    corrs = train.corr()\n",
    "    corrCols = []\n",
    "    appearences = []\n",
    "    for i in range(len(corrs.index) - 1):\n",
    "        for j in range(i):\n",
    "            if abs(corrs).iloc[i,j] > alpha:\n",
    "                corrCols.append([corrs.columns[i], corrs.columns[j]])\n",
    "    colsToDrop = []\n",
    "    for k in corrCols:\n",
    "        if (k[0] not in colsToDrop) and (k[1] not in colsToDrop):\n",
    "            p0 = y_train.corr(train[k[0]])\n",
    "            p1 = y_train.corr(train[k[1]])\n",
    "            if p0 > p1:\n",
    "                colsToDrop.append(k[1])\n",
    "            else:\n",
    "                colsToDrop.append(k[0])\n",
    "    return(colsToDrop)"
   ]
  },
  {
   "cell_type": "code",
   "execution_count": 84,
   "id": "973ceaa4-edf8-4121-ac81-2d5e1e14688c",
   "metadata": {},
   "outputs": [
    {
     "data": {
      "text/plain": [
       "[Text(0.5, 96.74999999999997, ''), Text(54.74999999999999, 0.5, '')]"
      ]
     },
     "execution_count": 84,
     "metadata": {},
     "output_type": "execute_result"
    },
    {
     "data": {
      "image/png": "[encoded data removed]",
      "text/plain": [
       "<Figure size 700x700 with 2 Axes>"
      ]
     },
     "metadata": {},
     "output_type": "display_data"
    }
   ],
   "source": [
    "sns.set_theme(style=\"white\")\n",
    "\n",
    "# Compute the correlation matrix\n",
    "corr = train.iloc[:, :].corr()\n",
    "\n",
    "# Generate a mask for the upper triangle\n",
    "mask = np.triu(np.ones_like(corr, dtype=bool))\n",
    "\n",
    "# Set up the matplotlib figure\n",
    "f, ax = plt.subplots(figsize=(7, 7))\n",
    "\n",
    "# Generate a custom diverging colormap\n",
    "cmap = sns.diverging_palette(230, 20, as_cmap=True)\n",
    "\n",
    "# Draw the heatmap with the mask and correct aspect ratio\n",
    "ax = sns.heatmap(corr, mask = mask, cmap=cmap, vmax=.3, center=0,\n",
    "            square=True, linewidths=.5, cbar_kws={\"shrink\": .5})\n",
    "\n",
    "ax.set_xticks([])  # Remove x-axis ticks\n",
    "ax.set_yticks([])  # Remove y-axis ticks\n",
    "ax.set(xlabel=None, ylabel=None)"
   ]
  },
  {
   "cell_type": "code",
   "execution_count": 85,
   "id": "00d46b94-4cef-4d73-b6d2-41d02b6e60fb",
   "metadata": {},
   "outputs": [
    {
     "data": {
      "text/plain": [
       "60"
      ]
     },
     "execution_count": 85,
     "metadata": {},
     "output_type": "execute_result"
    }
   ],
   "source": [
    "len(train.columns)"
   ]
  },
  {
   "cell_type": "code",
   "execution_count": 86,
   "id": "84344923",
   "metadata": {},
   "outputs": [],
   "source": [
    "colsDrop = dropCorrs(0.7)\n",
    "train.drop(colsDrop, axis = 1, inplace = True)\n",
    "test.drop(colsDrop, axis = 1, inplace = True)"
   ]
  },
  {
   "cell_type": "code",
   "execution_count": 87,
   "id": "51271c44-1038-40d8-b5e6-f8bdac5015d6",
   "metadata": {},
   "outputs": [
    {
     "data": {
      "text/plain": [
       "58"
      ]
     },
     "execution_count": 87,
     "metadata": {},
     "output_type": "execute_result"
    }
   ],
   "source": [
    "len(train.columns)"
   ]
  },
  {
   "cell_type": "markdown",
   "id": "6e044ec0",
   "metadata": {},
   "source": [
    "We are measured using the RMSE between the log of the predictions and the log of the real values, and therefore we will use the log of 'SalePrice' for training."
   ]
  },
  {
   "cell_type": "markdown",
   "id": "cd5d4293",
   "metadata": {},
   "source": [
    "We fill the missing data using Iterative Imputer, an imputation method that uses the other features and a regression model to fill in the missing entries."
   ]
  },
  {
   "cell_type": "code",
   "execution_count": 88,
   "id": "2ad26929",
   "metadata": {},
   "outputs": [],
   "source": [
    "from sklearn.experimental import enable_iterative_imputer\n",
    "from sklearn.impute import IterativeImputer\n",
    "\n",
    "imputer = IterativeImputer(max_iter=100)\n",
    "train = pd.DataFrame(imputer.fit_transform(train), columns=train.columns)\n",
    "test = pd.DataFrame(imputer.transform(test), columns=test.columns)"
   ]
  },
  {
   "cell_type": "markdown",
   "id": "b9b0ae40",
   "metadata": {},
   "source": [
    "Scaling the data."
   ]
  },
  {
   "cell_type": "code",
   "execution_count": 89,
   "id": "cd6115fd",
   "metadata": {},
   "outputs": [],
   "source": [
    "from sklearn.preprocessing import StandardScaler\n",
    "\n",
    "scaler = StandardScaler()\n",
    "train = pd.DataFrame(scaler.fit_transform(train), columns=train.columns)\n",
    "test = pd.DataFrame(scaler.transform(test), columns=test.columns)"
   ]
  },
  {
   "cell_type": "markdown",
   "id": "4c08f8c3",
   "metadata": {},
   "source": [
    "We can now start and train some models. Tuning their parameters will be done using 5-fold CV.\n",
    "\n",
    "We first try to fit lasso to the data. We will also use this as feature selection method for different methods."
   ]
  },
  {
   "cell_type": "code",
   "execution_count": 90,
   "id": "ae47e805",
   "metadata": {},
   "outputs": [
    {
     "name": "stdout",
     "output_type": "stream",
     "text": [
      "Optimal alpha value: 182\n"
     ]
    }
   ],
   "source": [
    "from sklearn.model_selection import GridSearchCV\n",
    "from sklearn.linear_model import Ridge\n",
    "\n",
    "paramGrid = {'alpha' : [i for i in range(1,400)]}\n",
    "ridge = Ridge(max_iter = 1000)\n",
    "gridSearch = GridSearchCV(estimator=ridge, param_grid=paramGrid)\n",
    "g = gridSearch.fit(train, y_train)\n",
    "bestAlphaRidge = g.best_params_['alpha']\n",
    "print('Optimal alpha value: ' + str(bestAlphaRidge))"
   ]
  },
  {
   "cell_type": "markdown",
   "id": "12d1c98a-0cdc-40c9-8713-9b2cd0a31b07",
   "metadata": {},
   "source": [
    "The error on the train set"
   ]
  },
  {
   "cell_type": "code",
   "execution_count": 91,
   "id": "d43c8125-61d4-4bbb-9c31-95678ca38335",
   "metadata": {},
   "outputs": [
    {
     "data": {
      "text/plain": [
       "0.12988455149145725"
      ]
     },
     "execution_count": 91,
     "metadata": {},
     "output_type": "execute_result"
    }
   ],
   "source": [
    "ridge = Ridge(alpha = bestAlphaRidge)\n",
    "ridge.fit(train, y_train)\n",
    "y_pred = ridge.predict(train)\n",
    "rmse = np.sqrt(np.mean((y_pred - y_train) ** 2))\n",
    "rmse"
   ]
  },
  {
   "cell_type": "markdown",
   "id": "96143247-dc82-4a06-ac18-e2dd62f324a1",
   "metadata": {},
   "source": [
    "Create prediction on the test set"
   ]
  },
  {
   "cell_type": "code",
   "execution_count": 92,
   "id": "485b74c2-251b-4e58-8a53-2bc3d0568f87",
   "metadata": {},
   "outputs": [],
   "source": [
    "ridge = Ridge(alpha = bestAlphaRidge)\n",
    "ridge.fit(train, y_train)\n",
    "y_pred = ridge.predict(test)\n",
    "y_pred = np.exp(y_pred) - 1\n",
    "y_pred = pd.DataFrame({'Id' : testId, 'SalePrice' : y_pred})\n",
    "y_pred.to_csv('HousePricePredictionsRidge.csv', index = False)"
   ]
  },
  {
   "cell_type": "markdown",
   "id": "8ce8aabf",
   "metadata": {},
   "source": [
    "We got a score of 0.1345. Lets see if we can improve. \n",
    "<br>\n",
    "We will try and use a random forest.\n",
    "We need to tune the number of trees, the level of pruning and the number of features we choose from at each split."
   ]
  },
  {
   "cell_type": "code",
   "execution_count": 93,
   "id": "ad938c47",
   "metadata": {},
   "outputs": [
    {
     "name": "stdout",
     "output_type": "stream",
     "text": [
      "Optimal ccp_alpha value: 0.0\n",
      "Optimal number of trees: 250\n",
      "Optimal number of features in each split: 0.3\n"
     ]
    }
   ],
   "source": [
    "from sklearn.ensemble import RandomForestRegressor\n",
    "\n",
    "paramGrid = {'n_estimators' : [200, 250, 300], 'ccp_alpha' : [0.001 * i for i in range(4)],\n",
    "            'max_features' : [0.2, 0.25, 0.3]}\n",
    "rFor = RandomForestRegressor()\n",
    "gridSearch = GridSearchCV(estimator=rFor, param_grid=paramGrid)\n",
    "g = gridSearch.fit(train, y_train)\n",
    "bestAlphaRandFor = g.best_params_['ccp_alpha']\n",
    "bestNumTreesRandFor = g.best_params_['n_estimators']\n",
    "bestMaxFeat = g.best_params_['max_features']\n",
    "print('Optimal ccp_alpha value: ' + str(bestAlphaRandFor) + '\\n' +\n",
    "     'Optimal number of trees: ' + str(bestNumTreesRandFor) + '\\n' +\n",
    "     'Optimal number of features in each split: ' + str(bestMaxFeat))"
   ]
  },
  {
   "cell_type": "markdown",
   "id": "23bbdb81-4593-4971-8a3b-4bbdc9e1d0c6",
   "metadata": {},
   "source": [
    "Lets Check the error on the train set"
   ]
  },
  {
   "cell_type": "code",
   "execution_count": 94,
   "id": "55b0f697-d181-4c5d-a4b7-d939e7f31e32",
   "metadata": {},
   "outputs": [
    {
     "data": {
      "text/plain": [
       "0.0490526957978358"
      ]
     },
     "execution_count": 94,
     "metadata": {},
     "output_type": "execute_result"
    }
   ],
   "source": [
    "rFor = RandomForestRegressor(n_estimators = bestNumTreesRandFor,\n",
    "                             ccp_alpha = bestAlphaRandFor,\n",
    "                            max_features = bestMaxFeat)\n",
    "rFor.fit(train, y_train)\n",
    "y_pred = rFor.predict(train)\n",
    "rmse = np.sqrt(np.mean((y_pred - y_train) ** 2))\n",
    "rmse"
   ]
  },
  {
   "cell_type": "markdown",
   "id": "bd1f963a-6af7-4c9b-ac0e-772fdbcb6474",
   "metadata": {},
   "source": [
    "Create the predictionn for the test set"
   ]
  },
  {
   "cell_type": "code",
   "execution_count": 95,
   "id": "acaaf0d1",
   "metadata": {},
   "outputs": [],
   "source": [
    "rFor = RandomForestRegressor(n_estimators = bestNumTreesRandFor,\n",
    "                             ccp_alpha = bestAlphaRandFor,\n",
    "                            max_features = bestMaxFeat)\n",
    "rFor.fit(train, y_train)\n",
    "y_pred = rFor.predict(test)\n",
    "y_pred = np.exp(y_pred) - 1\n",
    "y_pred = pd.DataFrame({'Id' : testId, 'SalePrice' : y_pred})\n",
    "y_pred.to_csv('HousePricePredictionsRandomForest.csv', index = False)"
   ]
  },
  {
   "cell_type": "markdown",
   "id": "603724f2",
   "metadata": {},
   "source": [
    "We got a score of 0.138.\n",
    "This is small decrease in preformence than we got using Ridge. It implies that the linear model is not a bad idea. The random forest seems to over fit.\n",
    "<br>\n",
    "Therefore, next we try and use a Support Vector Regressor with a linear kernel.\n",
    "<br>\n",
    "We need to try and find the optimal epsilon (allowed error) and C (inverse regularization coefficient)."
   ]
  },
  {
   "cell_type": "code",
   "execution_count": 96,
   "id": "6afd2137",
   "metadata": {},
   "outputs": [
    {
     "name": "stdout",
     "output_type": "stream",
     "text": [
      "Optimal C value: 0.001\n",
      "Optimal epsilon value: 0.07\n"
     ]
    }
   ],
   "source": [
    "from sklearn.svm import SVR\n",
    "linearSvr = SVR(kernel = 'linear')\n",
    "paramGrid = {'C' : [0.001 * i for i in range(1, 10)], 'epsilon' : [0.01 * i for i in range(6, 10)]}\n",
    "gridSearch = GridSearchCV(estimator=linearSvr, param_grid=paramGrid)\n",
    "g = gridSearch.fit(train, y_train)\n",
    "bestC = g.best_params_['C']\n",
    "bestEps = g.best_params_['epsilon']\n",
    "print('Optimal C value: ' + str(bestC) + '\\n' +\n",
    "     'Optimal epsilon value: ' + str(bestEps))"
   ]
  },
  {
   "cell_type": "markdown",
   "id": "670956e0-7713-4b52-920a-e36f8a6a46be",
   "metadata": {},
   "source": [
    "The error in the train set:"
   ]
  },
  {
   "cell_type": "code",
   "execution_count": 97,
   "id": "c7997e35-26dd-44df-a998-41138a172b7b",
   "metadata": {},
   "outputs": [
    {
     "data": {
      "text/plain": [
       "0.13649611380213048"
      ]
     },
     "execution_count": 97,
     "metadata": {},
     "output_type": "execute_result"
    }
   ],
   "source": [
    "linearSvr = SVR(kernel = 'linear', C=bestC, epsilon = bestEps)\n",
    "linearSvr.fit(train, y_train)\n",
    "y_pred = linearSvr.predict(train)\n",
    "rmse = np.sqrt(np.mean((y_pred - y_train) ** 2))\n",
    "rmse"
   ]
  },
  {
   "cell_type": "markdown",
   "id": "1fe68473-07ca-4164-9822-ab5b128f217f",
   "metadata": {},
   "source": [
    "Predicting on the test set"
   ]
  },
  {
   "cell_type": "code",
   "execution_count": 98,
   "id": "d5d4c81d",
   "metadata": {},
   "outputs": [],
   "source": [
    "linearSvr = SVR(kernel = 'linear', C=bestC, epsilon = bestEps)\n",
    "linearSvr.fit(train, y_train)\n",
    "y_pred = linearSvr.predict(test)\n",
    "y_pred = np.exp(y_pred) - 1\n",
    "y_pred = pd.DataFrame({'Id' : testId, 'SalePrice' : y_pred})\n",
    "y_pred.to_csv('HousePricePredictionsLinearSVR.csv', index = False)"
   ]
  },
  {
   "cell_type": "markdown",
   "id": "237606aa",
   "metadata": {},
   "source": [
    "We got a score of 0.1354.\n",
    "<br>\n",
    "We will go back to a tree based methods, specifically XGBoost.\n",
    "<br>\n",
    "We will adjust the learning rate and the lambda & alpha regularization parameters (l2 & l1)."
   ]
  },
  {
   "cell_type": "code",
   "execution_count": 99,
   "id": "fd1ab4d7",
   "metadata": {},
   "outputs": [
    {
     "name": "stdout",
     "output_type": "stream",
     "text": [
      "Optimal learning rate: 0.03\n",
      "Optimal lambda: 4e-05\n",
      "Optimal alpha: 0.003\n"
     ]
    }
   ],
   "source": [
    "import xgboost as xgb\n",
    "from sklearn.model_selection import train_test_split\n",
    "\n",
    "xgb1 = xgb.XGBRegressor(n_estimators = 500, max_depth = 4)\n",
    "paramGrid = {'learning_rate' : [0.01 * i for i in range(1, 5)],\n",
    "            'reg_alpha' : [0.001 * i for i in range(1, 5)], 'reg_lambda' : [0.00001 * i for i in range(1, 5)]}\n",
    "gridSearch = GridSearchCV(estimator=xgb1, param_grid=paramGrid)\n",
    "g = gridSearch.fit(train, y_train)\n",
    "bestLearningRate = g.best_params_['learning_rate']\n",
    "bestLambda = g.best_params_['reg_lambda']\n",
    "bestAlphaXGB = g.best_params_['reg_alpha']\n",
    "print('Optimal learning rate: ' + str(bestLearningRate) + '\\n' +\n",
    "     'Optimal lambda: ' + str(bestLambda) + '\\n' +\n",
    "     'Optimal alpha: ' + str(bestAlphaXGB))"
   ]
  },
  {
   "cell_type": "markdown",
   "id": "fa1485ab-003f-4d25-8e72-f19241066a45",
   "metadata": {},
   "source": [
    "In order to avoid overfitting we will add an early stopping criteria. If we had not made an improvement in the last 10 steps, we will stop the training and return only the ensemble we have built upn to that point.\n",
    "\n",
    "Error on the train set"
   ]
  },
  {
   "cell_type": "code",
   "execution_count": 100,
   "id": "89af8074-09a3-4c3e-9ded-b3d47f41f971",
   "metadata": {},
   "outputs": [
    {
     "data": {
      "text/plain": [
       "0.06243770980996645"
      ]
     },
     "execution_count": 100,
     "metadata": {},
     "output_type": "execute_result"
    }
   ],
   "source": [
    "from sklearn.model_selection import train_test_split\n",
    "xgb1 = xgb.XGBRegressor(n_estimators = 500, max_depth = 4, \n",
    "                          learning_rate = bestLearningRate,\n",
    "                         reg_lambda = bestLambda,\n",
    "                          reg_alpha = bestAlphaXGB, early_stopping_rounds = 10)\n",
    "\n",
    "X_train_1, X_val, y_train_1, y_val = train_test_split(train, y_train, test_size = 0.1)\n",
    "xgb1.fit(X_train_1, y_train_1, eval_set = [(X_val, y_val)], verbose = 0)\n",
    "y_pred = xgb1.predict(train)\n",
    "rmse = np.sqrt(np.mean((y_pred - y_train) ** 2))\n",
    "rmse"
   ]
  },
  {
   "cell_type": "markdown",
   "id": "e8c07099",
   "metadata": {},
   "source": [
    "Predictions for the test set"
   ]
  },
  {
   "cell_type": "code",
   "execution_count": 101,
   "id": "c972b29b",
   "metadata": {},
   "outputs": [],
   "source": [
    "xgb1 = xgb.XGBRegressor(n_estimators = 500, max_depth = 4, \n",
    "                          learning_rate = bestLearningRate,\n",
    "                         reg_lambda = bestLambda,\n",
    "                          reg_alpha = bestAlphaXGB, early_stopping_rounds = 10)\n",
    "\n",
    "X_train_1, X_val, y_train_1, y_val = train_test_split(train, y_train, test_size = 0.1)\n",
    "xgb1.fit(X_train_1, y_train_1, eval_set = [(X_val, y_val)], verbose = 0)\n",
    "y_pred = xgb1.predict(test)\n",
    "y_pred = np.exp(y_pred) - 1\n",
    "y_pred = pd.DataFrame({'Id' : testId, 'SalePrice' : y_pred})\n",
    "y_pred.to_csv('HousePricePredictionsXGB.csv', index = False)"
   ]
  },
  {
   "cell_type": "markdown",
   "id": "9b67b9bd",
   "metadata": {},
   "source": [
    "We got a great improvement to our best score with 0.13031."
   ]
  },
  {
   "cell_type": "markdown",
   "id": "4005a05b",
   "metadata": {},
   "source": [
    "Now we will try a new approach. We will combine all of the prior models into one using exponential weighting. This process is supposed to reduce prediction variance (and therefore avoid overfitting) with a slight increase in bias (compared to the best model).\n",
    "\n",
    "First, we need to train the model on a subset of the training data. We will use a random subset of 90%.\n",
    "The rest of the data will be used in order to determine the weights."
   ]
  },
  {
   "cell_type": "code",
   "execution_count": 102,
   "id": "33075d5c",
   "metadata": {},
   "outputs": [],
   "source": [
    "X_train, X_weights, y_train, y_weights = train_test_split(train, y_train, test_size = 0.1)"
   ]
  },
  {
   "cell_type": "code",
   "execution_count": 103,
   "id": "89719dfc",
   "metadata": {},
   "outputs": [],
   "source": [
    "ridge = Ridge(alpha = bestAlphaRidge, max_iter = 1000)\n",
    "ridge.fit(X_train, y_train)\n",
    "y_pred = ridge.predict(X_weights)\n",
    "e1 = np.exp(-np.sum((y_pred - y_weights) ** 2))"
   ]
  },
  {
   "cell_type": "code",
   "execution_count": 104,
   "id": "e35d4a17",
   "metadata": {},
   "outputs": [],
   "source": [
    "rFor = RandomForestRegressor(n_estimators = bestNumTreesRandFor, \n",
    "                             max_features = bestMaxFeat, ccp_alpha=bestAlphaRandFor)\n",
    "rFor.fit(X_train, y_train)\n",
    "y_pred = rFor.predict(X_weights)\n",
    "e2 = np.exp(-np.sum((y_pred - y_weights) ** 2))"
   ]
  },
  {
   "cell_type": "code",
   "execution_count": 105,
   "id": "423b47bc",
   "metadata": {},
   "outputs": [],
   "source": [
    "linearSvr = SVR(kernel = 'linear', C = bestC, epsilon = bestEps)\n",
    "linearSvr.fit(X_train, y_train)\n",
    "y_pred = linearSvr.predict(X_weights)\n",
    "e3 = np.exp(-np.sum((y_pred - y_weights) ** 2))"
   ]
  },
  {
   "cell_type": "code",
   "execution_count": 106,
   "id": "efaaa616",
   "metadata": {},
   "outputs": [],
   "source": [
    "xgb1 = xgb.XGBRegressor(n_estimators = 500, max_depth = 4, \n",
    "                          learning_rate = bestLearningRate,\n",
    "                         reg_lambda = bestLambda,\n",
    "                          reg_alpha = bestAlphaXGB, early_stopping_rounds = 10)\n",
    "\n",
    "X_train_2, X_val_1, y_train_2, y_val_1 = train_test_split(X_train, y_train, test_size = 0.1)\n",
    "xgb1.fit(X_train_2, y_train_2, eval_set = [(X_val_1, y_val_1)], verbose = 0)\n",
    "y_pred = xgb1.predict(X_weights)\n",
    "e4 = np.exp(-np.sum((y_pred - y_weights) ** 2))"
   ]
  },
  {
   "cell_type": "code",
   "execution_count": 107,
   "id": "898ee7b2",
   "metadata": {},
   "outputs": [],
   "source": [
    "den = e1 + e2 + e3 +  e4\n",
    "w1 = e1/den\n",
    "w2 = e2/den\n",
    "w3 = e3/den\n",
    "w4 = e4/den"
   ]
  },
  {
   "cell_type": "code",
   "execution_count": 108,
   "id": "fd5a9566-d9e6-41a2-a456-0640dc2e23ba",
   "metadata": {},
   "outputs": [
    {
     "name": "stdout",
     "output_type": "stream",
     "text": [
      "0.0956019204472143 0.07820826856815938 0.12201992891373821 0.10928867874300163\n",
      "0.2359849042615284 0.1930502094956061 0.30119542691201295 0.2697694593308525\n"
     ]
    }
   ],
   "source": [
    "print(e1, e2, e3, e4)\n",
    "print(w1, w2, w3, w4)"
   ]
  },
  {
   "cell_type": "code",
   "execution_count": 109,
   "id": "d6a9fffe",
   "metadata": {},
   "outputs": [],
   "source": [
    "y_pred_ridge = ridge.predict(test)\n",
    "y_pred_rFor = rFor.predict(test)\n",
    "y_pred_svr = linearSvr.predict(test)\n",
    "y_pred_xgb = xgb1.predict(test)\n",
    "\n",
    "y_pred = w1 * y_pred_ridge + w2 * y_pred_rFor +  w3 * y_pred_svr + w4 * y_pred_xgb\n",
    "y_pred = np.exp(y_pred) - 1\n",
    "y_pred = pd.DataFrame({'Id' : testId, 'SalePrice' : y_pred})\n",
    "y_pred.to_csv('HousePricePredictionsAggregation.csv', index = False)"
   ]
  },
  {
   "cell_type": "markdown",
   "id": "c22e79df",
   "metadata": {},
   "source": [
    "We indeed manage to get a better result than all the other models: 0.12638!"
   ]
  },
  {
   "cell_type": "code",
   "execution_count": 110,
   "id": "3c23d3e7-137a-4f11-b974-b12a85ad13b7",
   "metadata": {},
   "outputs": [],
   "source": [
    "y_pred_ridge = ridge.predict(train)\n",
    "y_pred_rFor = rFor.predict(train)\n",
    "y_pred_svr = linearSvr.predict(train)\n",
    "y_pred_xgb = xgb1.predict(train)\n",
    "\n",
    "y_pred = w1 * y_pred_ridge + w2 * y_pred_rFor +  w3 * y_pred_svr + w4 * y_pred_xgb"
   ]
  }
 ],
 "metadata": {
  "kernelspec": {
   "display_name": "Python 3 (ipykernel)",
   "language": "python",
   "name": "python3"
  },
  "language_info": {
   "codemirror_mode": {
    "name": "ipython",
    "version": 3
   },
   "file_extension": ".py",
   "mimetype": "text/x-python",
   "name": "python",
   "nbconvert_exporter": "python",
   "pygments_lexer": "ipython3",
   "version": "3.9.20"
  }
 },
 "nbformat": 4,
 "nbformat_minor": 5
}
